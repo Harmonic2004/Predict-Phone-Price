{
 "cells": [
  {
   "cell_type": "markdown",
   "metadata": {},
   "source": [
    "Importing"
   ]
  },
  {
   "cell_type": "code",
   "execution_count": 1,
   "metadata": {},
   "outputs": [
    {
     "name": "stdout",
     "output_type": "stream",
     "text": [
      "-- Importing success\n"
     ]
    }
   ],
   "source": [
    "import pandas as pd\n",
    "\n",
    "print('-- Importing success')"
   ]
  },
  {
   "cell_type": "markdown",
   "metadata": {},
   "source": [
    "Trích chọn đặc trưng"
   ]
  },
  {
   "cell_type": "code",
   "execution_count": 4,
   "metadata": {},
   "outputs": [
    {
     "data": {
      "text/plain": [
       "Công nghệ màn hình                0\n",
       "Kích thước màn hình (inch)        0\n",
       "Độ phân giải                      0\n",
       "Mặt kính cảm ứng                  0\n",
       "Độ phân giải camera sau (MP)      0\n",
       "Quay phim                         0\n",
       "Đèn Flash                         0\n",
       "Tính năng camera sau              0\n",
       "Độ phân giải camera trước (MP)    0\n",
       "Videocall                         0\n",
       "Tính năng camera trước            0\n",
       "Hệ điều hành                      0\n",
       "Chipset (CPU)                     0\n",
       "Tốc độ CPU                        0\n",
       "Chip đồ họa (GPU)                 0\n",
       "Ram                               0\n",
       "Bộ nhớ trong                      0\n",
       "Hỗ trợ thẻ nhớ ngoài (MicroSD)    0\n",
       "Mạng di dộng                      0\n",
       "SIM                               0\n",
       "Wifi                              0\n",
       "GPS                               0\n",
       "Bluetooth                         0\n",
       "Kết nối khác                      0\n",
       "Jack tai nghe                     0\n",
       "Cổng kết nối/sạc              0\n",
       "Loại pin                          2\n",
       "Dung lượng pin (mAh)              0\n",
       "Công nghệ pin                     0\n",
       "Thiết kế                          0\n",
       "Chất liệu                         3\n",
       "Kích thước (mm)                   0\n",
       "Trọng lượng (g)                   0\n",
       "Tính năng bảo mật                 0\n",
       "Tính năng đặc biệt                2\n",
       "Ghi âm                            0\n",
       "Radio                             8\n",
       "Product                           0\n",
       "link                              0\n",
       "Price                             0\n",
       "dtype: int64"
      ]
     },
     "execution_count": 4,
     "metadata": {},
     "output_type": "execute_result"
    }
   ],
   "source": [
    "#Tạo dataframe\n",
    "df = pd.read_csv(r'D:\\CaptoneProject\\Main\\DataCollection\\Dien_Thoai\\phone_total.csv')\n",
    "df.isna().sum()"
   ]
  },
  {
   "cell_type": "code",
   "execution_count": 9,
   "metadata": {},
   "outputs": [],
   "source": [
    "#Chọn đặc trưng\n",
    "selected_columns = ['Kích thước màn hình (inch)', 'Chipset (CPU)', 'Bộ nhớ trong', 'Ram', 'Độ phân giải camera sau (MP)', 'Dung lượng pin (mAh)', 'Product', 'Price']\n",
    "df_ = df[selected_columns]"
   ]
  },
  {
   "cell_type": "code",
   "execution_count": 10,
   "metadata": {},
   "outputs": [],
   "source": [
    "#Lấy ra hãng sản xuất\n",
    "df_ = df_.copy()\n",
    "df_['Hãng sản xuất'] = df_['Product'].apply(lambda x: x.split()[0])"
   ]
  },
  {
   "cell_type": "code",
   "execution_count": 13,
   "metadata": {},
   "outputs": [],
   "source": [
    "#Thay đỏi tên hãng Iphone thành Apple\n",
    "df_['Hãng sản xuất'] = df_['Hãng sản xuất'].apply(lambda x: 'Apple' if 'iPhone' in x else x)"
   ]
  },
  {
   "cell_type": "code",
   "execution_count": 14,
   "metadata": {},
   "outputs": [],
   "source": [
    "#Tạo file csv\n",
    "df_.to_csv('data_DTGK.csv')"
   ]
  }
 ],
 "metadata": {
  "kernelspec": {
   "display_name": "Python 3",
   "language": "python",
   "name": "python3"
  },
  "language_info": {
   "codemirror_mode": {
    "name": "ipython",
    "version": 3
   },
   "file_extension": ".py",
   "mimetype": "text/x-python",
   "name": "python",
   "nbconvert_exporter": "python",
   "pygments_lexer": "ipython3",
   "version": "3.12.4"
  }
 },
 "nbformat": 4,
 "nbformat_minor": 2
}
