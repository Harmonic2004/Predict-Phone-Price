{
 "cells": [
  {
   "cell_type": "code",
   "execution_count": 1,
   "metadata": {},
   "outputs": [],
   "source": [
    "from pyspark.sql import SparkSession"
   ]
  },
  {
   "cell_type": "code",
   "execution_count": 2,
   "metadata": {},
   "outputs": [
    {
     "name": "stderr",
     "output_type": "stream",
     "text": [
      "WARNING: An illegal reflective access operation has occurred\n",
      "WARNING: Illegal reflective access by org.apache.spark.unsafe.Platform (file:/usr/local/spark/jars/spark-unsafe_2.12-3.2.0.jar) to constructor java.nio.DirectByteBuffer(long,int)\n",
      "WARNING: Please consider reporting this to the maintainers of org.apache.spark.unsafe.Platform\n",
      "WARNING: Use --illegal-access=warn to enable warnings of further illegal reflective access operations\n",
      "WARNING: All illegal access operations will be denied in a future release\n",
      "Using Spark's default log4j profile: org/apache/spark/log4j-defaults.properties\n",
      "Setting default log level to \"WARN\".\n",
      "To adjust logging level use sc.setLogLevel(newLevel). For SparkR, use setLogLevel(newLevel).\n",
      "24/08/14 15:07:52 WARN NativeCodeLoader: Unable to load native-hadoop library for your platform... using builtin-java classes where applicable\n"
     ]
    }
   ],
   "source": [
    "spark = SparkSession.builder \\\n",
    "    .appName('Read CSV File') \\\n",
    "    .getOrCreate()"
   ]
  },
  {
   "cell_type": "code",
   "execution_count": 3,
   "metadata": {},
   "outputs": [
    {
     "name": "stderr",
     "output_type": "stream",
     "text": [
      "                                                                                \r"
     ]
    },
    {
     "name": "stdout",
     "output_type": "stream",
     "text": [
      "+--------------------+-------------+------------+-----+--------------------+-------------------+--------------------+---------------+--------+\n",
      "|        Tên sản phẩm|Hãng sản xuất|Bộ nhớ trong|  Ram|        Chipset(CPU)|Kích thước màn hình| Độ phân giải Camera| Dung lượng pin|     Giá|\n",
      "+--------------------+-------------+------------+-----+--------------------+-------------------+--------------------+---------------+--------+\n",
      "|Samsung Galaxy A0...|      Samsung|       128GB|  4GB|           Helio G85|         6.7 inches|          50MP - 2MP|       5000 mAh| 3090000|\n",
      "|iPhone 14 128GB V...|        Apple|       128GB| 6 GB|    Apple A15 Bionic|         6,1 inches|Camera góc r?ng: ...|       3,279mAh|25990000|\n",
      "|INOI Note 13s 8GB...|         INOI|       256GB|  8GB| Unisoc T606 (12 nm)|         7.0 inches|    16MP - 2MP - 2MP|        5000mAh| 3390000|\n",
      "|iPhone 14 Pro 128...|        Apple|       128GB|  6GB|    Apple A16 Bionic|           6.1 inch|Camera chính: 48M...|       3,200mAh|31990000|\n",
      "|Samsung Galaxy Z ...|      Samsung|      256 GB|  8Gb|Snapdragon 8 Gen ...|         6.7 inches|         12MP - 12MP|       3700 mAh|25990000|\n",
      "|Xiaomi Redmi Pad ...|       Xiaomi|       128GB|  6GB|Snapdragon 680 4G...|        11.0 inches|                 8MP| Li-Po 8000 mAh| 4990000|\n",
      "|Samsung Galaxy S2...|      Samsung|      256 GB| 8 GB|Snapdragon 8 Gen ...|           6.1 inch|  50MP – 10MP – 12MP|Li-lon 3700 mAh|23490000|\n",
      "|Oppo Reno 7 (5G) ...|         Oppo|      256 GB| 8 GB|MediaTek Dimensit...|        6.43 inches|    64MP – 8MP – 2MP|       4500 mAh|12990000|\n",
      "|Xiaomi Poco X3 GT...|       Xiaomi|       128GB|  8Gb|MediaTek MT6891Z ...|           6.6 inch|    64MP – 8MP – 2MP|       5000 mAh| Liên hệ|\n",
      "|Xiaomi Redmi A2 2...|       Xiaomi|        32GB|  2GB|  MediaTek Helio G36|        6.52 inches|2 Camera chính: 8...|       5000 mAh| 2990000|\n",
      "|Xiaomi Redmi K70 ...|       Xiaomi|       256GB| 16G6|Snapdragon 8 Gen ...|        6.67 inches|  50MP - 50MP - 12MP|       5000 mAh|17990000|\n",
      "|Xiaomi Redmi Note...|       Xiaomi|       128GB|  8Gb|MediaTek Dimensit...|         6.6 inches|    64MP – 8MP – 2MP|        5080mAh| 7990000|\n",
      "|Realme GT Neo 2T ...|       Realme|      256 GB|12 GB|MediaTek MT6893 D...|          6.43 inch|    64MP – 8MP – 2MP|       4500 mAh| 7450000|\n",
      "|Samsung Galaxy A5...|      Samsung|      256 GB|  8Gb|         Exynos 1380|         6.4 inches|    50MP -12MP - 5MP|       5000 mAh|11490000|\n",
      "|Xiaomi Redmi K70E...|       Xiaomi|       256GB| 12GB|Dimensity 8300 Ul...|        6.67 inches|    64MP - 8MP - 2MP|       5500 mAh| 9990000|\n",
      "|Xiaomi Poco M4 (5...|       Xiaomi|        64GB|  4GB|MediaTek MT6833 D...|        6.58 inches|13MP, f/2.2, Ch?p...|       5000 mAh| 4990000|\n",
      "|iPhone 15 128GB V...|        Apple|       128GB|  6GB|    Apple A16 Bionic|         6.1 inches|Camera chính: 48M...|      3.349 mAh|23990000|\n",
      "|INOI 240 (4G) Chí...|         INOI|       128MB| 48MB|         Unisoc T107|           1,8 inch|              0.08MP|       1000 mAh| Liên hệ|\n",
      "|Realme C60 4GB 64...|       Realme|        64GB|  4GB|         Unisoc T612|        6,74 inches|                13MP|        5000mAh| 2990000|\n",
      "|TECNO Spark Go 20...|        Tecno|        64GB|  4GB| Unisoc T606 (12 nm)|         6.6 inches|       13MP - 0,08MP|       5000 mAh| 2190000|\n",
      "+--------------------+-------------+------------+-----+--------------------+-------------------+--------------------+---------------+--------+\n",
      "only showing top 20 rows\n",
      "\n"
     ]
    }
   ],
   "source": [
    "df = spark.read.csv(r'/home/hadoop/Predict-Phone-Price/Data_collection/final_data.csv', header=True, inferSchema=True)\n",
    "\n",
    "# Show the first few rows of the DataFrame\n",
    "df.show()"
   ]
  },
  {
   "cell_type": "code",
   "execution_count": null,
   "metadata": {},
   "outputs": [],
   "source": []
  }
 ],
 "metadata": {
  "kernelspec": {
   "display_name": "venv",
   "language": "python",
   "name": "python3"
  },
  "language_info": {
   "codemirror_mode": {
    "name": "ipython",
    "version": 3
   },
   "file_extension": ".py",
   "mimetype": "text/x-python",
   "name": "python",
   "nbconvert_exporter": "python",
   "pygments_lexer": "ipython3",
   "version": "3.10.12"
  }
 },
 "nbformat": 4,
 "nbformat_minor": 2
}
