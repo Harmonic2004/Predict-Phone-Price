{
 "cells": [
  {
   "cell_type": "markdown",
   "metadata": {},
   "source": [
    "Importing"
   ]
  },
  {
   "cell_type": "code",
   "execution_count": 1,
   "metadata": {},
   "outputs": [
    {
     "name": "stdout",
     "output_type": "stream",
     "text": [
      "-- Importing success\n"
     ]
    }
   ],
   "source": [
    "import pandas as pd\n",
    "\n",
    "print('-- Importing success')"
   ]
  },
  {
   "cell_type": "markdown",
   "metadata": {},
   "source": [
    "Xử lí dữ liệu để thu được lượng dữ liệu trống ít nhất"
   ]
  },
  {
   "cell_type": "code",
   "execution_count": 88,
   "metadata": {},
   "outputs": [],
   "source": [
    "#Tạo dataframe\n",
    "data_CB = pd.read_csv(r'D:\\CaptoneProject\\Main\\DataCollection\\Click_Buy\\phone_total.csv', encoding='utf-8')\n"
   ]
  },
  {
   "cell_type": "code",
   "execution_count": 89,
   "metadata": {},
   "outputs": [
    {
     "data": {
      "text/plain": [
       "Kích thước màn hình         38\n",
       "CPU                         37\n",
       "Hệ điều hành                56\n",
       "Bộ nhớ trong                34\n",
       "RAM                         40\n",
       "Camera chính                34\n",
       "Camera phụ                  57\n",
       "Dung lượng pin              40\n",
       "Màu sắc                     40\n",
       "Độ phân giải màn hình       88\n",
       "Sạc nhanh                  139\n",
       "Hãng sản xuất              175\n",
       "Tình trạng SP               67\n",
       "Product                      0\n",
       "Tính năng màn hình         341\n",
       "Thẻ sim                    264\n",
       "Màn Hinh Phụ               349\n",
       "Thương hiệu                241\n",
       "Tình trạng máy             336\n",
       "Tình trạng sản phẩm        330\n",
       "Thương hiệu sản phẩm       330\n",
       "Thẻ nhớ                    341\n",
       "Khả năng kết nối           348\n",
       "Loại CPU                   344\n",
       "Kích thước                 347\n",
       "Quay Phim                  350\n",
       "Trọng lượng                346\n",
       "Wifi                       350\n",
       "Công nghệ màn hình         333\n",
       "Nhà sản xuất               350\n",
       "Màn hình                   342\n",
       "Camera ngoài               350\n",
       "GPU                        344\n",
       "Phụ kiện đi kèm            347\n",
       "Hãng                       348\n",
       "Chipset                    346\n",
       "Cân nặng                   350\n",
       "Màn hình ngoài             349\n",
       "Kích thước, trọng lượng    350\n",
       "Độ phân giải               350\n",
       "hỗ trợ mạng                350\n",
       "link                         0\n",
       "price                        0\n",
       "dtype: int64"
      ]
     },
     "execution_count": 89,
     "metadata": {},
     "output_type": "execute_result"
    }
   ],
   "source": [
    "#Kiểm tra dữ liệu trống của các cột\n",
    "data_CB.isna().sum()"
   ]
  },
  {
   "cell_type": "code",
   "execution_count": 90,
   "metadata": {},
   "outputs": [],
   "source": [
    "# Đếm số lượng cột khác None trong mỗi hàng\n",
    "non_none_count = data_CB.notna().sum(axis=1)\n",
    "# Giữ lại các dòng mà số lượng cột khác None không phải là 3\n",
    "data_CB = data_CB[non_none_count != 3]"
   ]
  },
  {
   "cell_type": "code",
   "execution_count": 91,
   "metadata": {},
   "outputs": [
    {
     "data": {
      "text/plain": [
       "Kích thước màn hình          9\n",
       "CPU                          8\n",
       "Hệ điều hành                27\n",
       "Bộ nhớ trong                 5\n",
       "RAM                         11\n",
       "Camera chính                 5\n",
       "Camera phụ                  28\n",
       "Dung lượng pin              11\n",
       "Màu sắc                     11\n",
       "Độ phân giải màn hình       59\n",
       "Sạc nhanh                  110\n",
       "Hãng sản xuất              146\n",
       "Tình trạng SP               38\n",
       "Product                      0\n",
       "Tính năng màn hình         312\n",
       "Thẻ sim                    235\n",
       "Màn Hinh Phụ               320\n",
       "Thương hiệu                212\n",
       "Tình trạng máy             307\n",
       "Tình trạng sản phẩm        301\n",
       "Thương hiệu sản phẩm       301\n",
       "Thẻ nhớ                    312\n",
       "Khả năng kết nối           319\n",
       "Loại CPU                   315\n",
       "Kích thước                 318\n",
       "Quay Phim                  321\n",
       "Trọng lượng                317\n",
       "Wifi                       321\n",
       "Công nghệ màn hình         304\n",
       "Nhà sản xuất               321\n",
       "Màn hình                   313\n",
       "Camera ngoài               321\n",
       "GPU                        315\n",
       "Phụ kiện đi kèm            318\n",
       "Hãng                       319\n",
       "Chipset                    317\n",
       "Cân nặng                   321\n",
       "Màn hình ngoài             320\n",
       "Kích thước, trọng lượng    321\n",
       "Độ phân giải               321\n",
       "hỗ trợ mạng                321\n",
       "link                         0\n",
       "price                        0\n",
       "dtype: int64"
      ]
     },
     "execution_count": 91,
     "metadata": {},
     "output_type": "execute_result"
    }
   ],
   "source": [
    "data_CB.isna().sum()"
   ]
  },
  {
   "cell_type": "code",
   "execution_count": 93,
   "metadata": {},
   "outputs": [
    {
     "data": {
      "text/plain": [
       "Kích thước màn hình          0\n",
       "CPU                          8\n",
       "Hệ điều hành                27\n",
       "Bộ nhớ trong                 5\n",
       "RAM                         11\n",
       "Camera chính                 5\n",
       "Camera phụ                  28\n",
       "Dung lượng pin              11\n",
       "Màu sắc                     11\n",
       "Độ phân giải màn hình       59\n",
       "Sạc nhanh                  110\n",
       "Hãng sản xuất              146\n",
       "Tình trạng SP               38\n",
       "Product                      0\n",
       "Tính năng màn hình         312\n",
       "Thẻ sim                    235\n",
       "Màn Hinh Phụ               320\n",
       "Thương hiệu                212\n",
       "Tình trạng máy             307\n",
       "Tình trạng sản phẩm        301\n",
       "Thương hiệu sản phẩm       301\n",
       "Thẻ nhớ                    312\n",
       "Khả năng kết nối           319\n",
       "Loại CPU                   315\n",
       "Kích thước                 318\n",
       "Quay Phim                  321\n",
       "Trọng lượng                317\n",
       "Wifi                       321\n",
       "Công nghệ màn hình         304\n",
       "Nhà sản xuất               321\n",
       "Màn hình                   313\n",
       "Camera ngoài               321\n",
       "GPU                        315\n",
       "Phụ kiện đi kèm            318\n",
       "Hãng                       319\n",
       "Chipset                    317\n",
       "Cân nặng                   321\n",
       "Màn hình ngoài             320\n",
       "Kích thước, trọng lượng    321\n",
       "Độ phân giải               321\n",
       "hỗ trợ mạng                321\n",
       "link                         0\n",
       "price                        0\n",
       "dtype: int64"
      ]
     },
     "execution_count": 93,
     "metadata": {},
     "output_type": "execute_result"
    }
   ],
   "source": [
    "# Thay thế giá trị trống trong cột 'Kích thước' bằng giá trị tương ứng từ cột 'màn hình' khi 'Kích thước' trống và 'màn hình' không trống\n",
    "data_CB['Kích thước màn hình'] = data_CB.apply(lambda row: row['Màn hình'] if pd.isna(row['Kích thước màn hình']) and pd.notna(row['Màn hình']) else row['Kích thước màn hình'], axis=1)\n",
    "data_CB.isna().sum()"
   ]
  },
  {
   "cell_type": "code",
   "execution_count": 96,
   "metadata": {},
   "outputs": [
    {
     "data": {
      "text/plain": [
       "Kích thước màn hình          0\n",
       "CPU                          8\n",
       "Hệ điều hành                27\n",
       "Bộ nhớ trong                 5\n",
       "RAM                         11\n",
       "Camera chính                 5\n",
       "Camera phụ                  28\n",
       "Dung lượng pin              11\n",
       "Màu sắc                     11\n",
       "Độ phân giải màn hình       59\n",
       "Sạc nhanh                  110\n",
       "Hãng sản xuất               40\n",
       "Tình trạng SP               38\n",
       "Product                      0\n",
       "Tính năng màn hình         312\n",
       "Thẻ sim                    235\n",
       "Màn Hinh Phụ               320\n",
       "Thương hiệu                212\n",
       "Tình trạng máy             307\n",
       "Tình trạng sản phẩm        301\n",
       "Thương hiệu sản phẩm       301\n",
       "Thẻ nhớ                    312\n",
       "Khả năng kết nối           319\n",
       "Loại CPU                   315\n",
       "Kích thước                 318\n",
       "Quay Phim                  321\n",
       "Trọng lượng                317\n",
       "Wifi                       321\n",
       "Công nghệ màn hình         304\n",
       "Nhà sản xuất               321\n",
       "Màn hình                   313\n",
       "Camera ngoài               321\n",
       "GPU                        315\n",
       "Phụ kiện đi kèm            318\n",
       "Hãng                       319\n",
       "Chipset                    317\n",
       "Cân nặng                   321\n",
       "Màn hình ngoài             320\n",
       "Kích thước, trọng lượng    321\n",
       "Độ phân giải               321\n",
       "hỗ trợ mạng                321\n",
       "link                         0\n",
       "price                        0\n",
       "dtype: int64"
      ]
     },
     "execution_count": 96,
     "metadata": {},
     "output_type": "execute_result"
    }
   ],
   "source": [
    "# Thay thế giá trị trống trong cột 'Hãng sản xuất' bằng giá trị tương ứng từ cột 'Thương hiệu' khi 'Hãng sx' trống và 'THương hiệu' không trống\n",
    "data_CB['Hãng sản xuất'] = data_CB.apply(lambda row: row['Thương hiệu'] if pd.isna(row['Hãng sản xuất']) and pd.notna(row['Thương hiệu']) else row['Hãng sản xuất'], axis=1)\n",
    "data_CB.isna().sum()"
   ]
  },
  {
   "cell_type": "code",
   "execution_count": 97,
   "metadata": {},
   "outputs": [
    {
     "data": {
      "text/plain": [
       "Kích thước màn hình          0\n",
       "CPU                          8\n",
       "Hệ điều hành                27\n",
       "Bộ nhớ trong                 5\n",
       "RAM                         11\n",
       "Camera chính                 5\n",
       "Camera phụ                  28\n",
       "Dung lượng pin              11\n",
       "Màu sắc                     11\n",
       "Độ phân giải màn hình       59\n",
       "Sạc nhanh                  110\n",
       "Hãng sản xuất               24\n",
       "Tình trạng SP               38\n",
       "Product                      0\n",
       "Tính năng màn hình         312\n",
       "Thẻ sim                    235\n",
       "Màn Hinh Phụ               320\n",
       "Thương hiệu                212\n",
       "Tình trạng máy             307\n",
       "Tình trạng sản phẩm        301\n",
       "Thương hiệu sản phẩm       301\n",
       "Thẻ nhớ                    312\n",
       "Khả năng kết nối           319\n",
       "Loại CPU                   315\n",
       "Kích thước                 318\n",
       "Quay Phim                  321\n",
       "Trọng lượng                317\n",
       "Wifi                       321\n",
       "Công nghệ màn hình         304\n",
       "Nhà sản xuất               321\n",
       "Màn hình                   313\n",
       "Camera ngoài               321\n",
       "GPU                        315\n",
       "Phụ kiện đi kèm            318\n",
       "Hãng                       319\n",
       "Chipset                    317\n",
       "Cân nặng                   321\n",
       "Màn hình ngoài             320\n",
       "Kích thước, trọng lượng    321\n",
       "Độ phân giải               321\n",
       "hỗ trợ mạng                321\n",
       "link                         0\n",
       "price                        0\n",
       "dtype: int64"
      ]
     },
     "execution_count": 97,
     "metadata": {},
     "output_type": "execute_result"
    }
   ],
   "source": [
    "data_CB['Hãng sản xuất'] = data_CB.apply(lambda row: row['Thương hiệu sản phẩm'] if pd.isna(row['Hãng sản xuất']) and pd.notna(row['Thương hiệu sản phẩm']) else row['Hãng sản xuất'], axis=1)\n",
    "data_CB.isna().sum()"
   ]
  },
  {
   "cell_type": "code",
   "execution_count": 94,
   "metadata": {},
   "outputs": [
    {
     "data": {
      "text/html": [
       "<div>\n",
       "<style scoped>\n",
       "    .dataframe tbody tr th:only-of-type {\n",
       "        vertical-align: middle;\n",
       "    }\n",
       "\n",
       "    .dataframe tbody tr th {\n",
       "        vertical-align: top;\n",
       "    }\n",
       "\n",
       "    .dataframe thead th {\n",
       "        text-align: right;\n",
       "    }\n",
       "</style>\n",
       "<table border=\"1\" class=\"dataframe\">\n",
       "  <thead>\n",
       "    <tr style=\"text-align: right;\">\n",
       "      <th></th>\n",
       "      <th>Kích thước màn hình</th>\n",
       "      <th>CPU</th>\n",
       "      <th>Hệ điều hành</th>\n",
       "      <th>Bộ nhớ trong</th>\n",
       "      <th>RAM</th>\n",
       "      <th>Camera chính</th>\n",
       "      <th>Camera phụ</th>\n",
       "      <th>Dung lượng pin</th>\n",
       "      <th>Màu sắc</th>\n",
       "      <th>Độ phân giải màn hình</th>\n",
       "      <th>...</th>\n",
       "      <th>Phụ kiện đi kèm</th>\n",
       "      <th>Hãng</th>\n",
       "      <th>Chipset</th>\n",
       "      <th>Cân nặng</th>\n",
       "      <th>Màn hình ngoài</th>\n",
       "      <th>Kích thước, trọng lượng</th>\n",
       "      <th>Độ phân giải</th>\n",
       "      <th>hỗ trợ mạng</th>\n",
       "      <th>link</th>\n",
       "      <th>price</th>\n",
       "    </tr>\n",
       "  </thead>\n",
       "  <tbody>\n",
       "  </tbody>\n",
       "</table>\n",
       "<p>0 rows × 43 columns</p>\n",
       "</div>"
      ],
      "text/plain": [
       "Empty DataFrame\n",
       "Columns: [Kích thước màn hình, CPU, Hệ điều hành, Bộ nhớ trong, RAM, Camera chính, Camera phụ, Dung lượng pin, Màu sắc, Độ phân giải màn hình, Sạc nhanh, Hãng sản xuất, Tình trạng SP, Product, Tính năng màn hình, Thẻ sim, Màn Hinh Phụ, Thương hiệu, Tình trạng máy, Tình trạng sản phẩm, Thương hiệu sản phẩm, Thẻ nhớ, Khả năng kết nối, Loại CPU, Kích thước, Quay Phim, Trọng lượng, Wifi, Công nghệ màn hình, Nhà sản xuất, Màn hình, Camera ngoài, GPU, Phụ kiện đi kèm, Hãng, Chipset, Cân nặng, Màn hình ngoài, Kích thước, trọng lượng, Độ phân giải, hỗ trợ mạng, link, price]\n",
       "Index: []\n",
       "\n",
       "[0 rows x 43 columns]"
      ]
     },
     "execution_count": 94,
     "metadata": {},
     "output_type": "execute_result"
    }
   ],
   "source": [
    "data_none = data_CB[data_CB[''].isna()]\n",
    "data_none.head()"
   ]
  },
  {
   "cell_type": "code",
   "execution_count": 108,
   "metadata": {},
   "outputs": [],
   "source": [
    "#Chọn ra những cột cần thiết\n",
    "selected_columns = ['Kích thước màn hình', 'CPU', 'Bộ nhớ trong', 'RAM', 'Camera chính', 'Dung lượng pin', 'Product', 'price', 'Hãng sản xuất']\n",
    "df_new = data_CB[selected_columns]"
   ]
  },
  {
   "cell_type": "code",
   "execution_count": 109,
   "metadata": {},
   "outputs": [
    {
     "data": {
      "text/plain": [
       "Kích thước màn hình     0\n",
       "CPU                     8\n",
       "Bộ nhớ trong            5\n",
       "RAM                    11\n",
       "Camera chính            5\n",
       "Dung lượng pin         11\n",
       "Product                 0\n",
       "price                   0\n",
       "Hãng sản xuất          24\n",
       "dtype: int64"
      ]
     },
     "execution_count": 109,
     "metadata": {},
     "output_type": "execute_result"
    }
   ],
   "source": [
    "df_new.isna().sum()"
   ]
  },
  {
   "cell_type": "code",
   "execution_count": 110,
   "metadata": {},
   "outputs": [],
   "source": [
    "# Sao chép DataFrame trước khi chỉnh sửa\n",
    "df_new = df_new.copy()\n",
    "df_new['Brand'] = df_new['Product'].apply(lambda x: x.split()[0])"
   ]
  },
  {
   "cell_type": "code",
   "execution_count": 111,
   "metadata": {},
   "outputs": [
    {
     "data": {
      "text/html": [
       "<div>\n",
       "<style scoped>\n",
       "    .dataframe tbody tr th:only-of-type {\n",
       "        vertical-align: middle;\n",
       "    }\n",
       "\n",
       "    .dataframe tbody tr th {\n",
       "        vertical-align: top;\n",
       "    }\n",
       "\n",
       "    .dataframe thead th {\n",
       "        text-align: right;\n",
       "    }\n",
       "</style>\n",
       "<table border=\"1\" class=\"dataframe\">\n",
       "  <thead>\n",
       "    <tr style=\"text-align: right;\">\n",
       "      <th></th>\n",
       "      <th>Kích thước màn hình</th>\n",
       "      <th>CPU</th>\n",
       "      <th>Bộ nhớ trong</th>\n",
       "      <th>RAM</th>\n",
       "      <th>Camera chính</th>\n",
       "      <th>Dung lượng pin</th>\n",
       "      <th>Product</th>\n",
       "      <th>price</th>\n",
       "      <th>Hãng sản xuất</th>\n",
       "      <th>Brand</th>\n",
       "    </tr>\n",
       "  </thead>\n",
       "  <tbody>\n",
       "    <tr>\n",
       "      <th>0</th>\n",
       "      <td>6.7 inches</td>\n",
       "      <td>Helio G85</td>\n",
       "      <td>128GB</td>\n",
       "      <td>4GB</td>\n",
       "      <td>50MP - 2MP</td>\n",
       "      <td>5000 mAh</td>\n",
       "      <td>Samsung Galaxy A05 (4G) 4GB 128GB Chính Hãng</td>\n",
       "      <td>3090000</td>\n",
       "      <td>Samsung</td>\n",
       "      <td>Samsung</td>\n",
       "    </tr>\n",
       "    <tr>\n",
       "      <th>2</th>\n",
       "      <td>6,1 inches</td>\n",
       "      <td>Apple A15 Bionic</td>\n",
       "      <td>128GB</td>\n",
       "      <td>6 GB</td>\n",
       "      <td>Camera góc r?ng: 12MP Camera góc siêu r?ng: 12MP</td>\n",
       "      <td>3,279mAh</td>\n",
       "      <td>iPhone 14 128GB VNA - T?ng BH roi v? vào nu?c</td>\n",
       "      <td>25990000</td>\n",
       "      <td>Apple</td>\n",
       "      <td>iPhone</td>\n",
       "    </tr>\n",
       "    <tr>\n",
       "      <th>3</th>\n",
       "      <td>7.0 inches</td>\n",
       "      <td>Unisoc T606 (12 nm)</td>\n",
       "      <td>256GB</td>\n",
       "      <td>8GB</td>\n",
       "      <td>16MP - 2MP - 2MP</td>\n",
       "      <td>5000mAh</td>\n",
       "      <td>INOI Note 13s 8GB 256GB Chính Hãng</td>\n",
       "      <td>3390000</td>\n",
       "      <td>INOI</td>\n",
       "      <td>INOI</td>\n",
       "    </tr>\n",
       "    <tr>\n",
       "      <th>4</th>\n",
       "      <td>6.1 inch</td>\n",
       "      <td>Apple A16 Bionic</td>\n",
       "      <td>128GB</td>\n",
       "      <td>6GB</td>\n",
       "      <td>Camera chính: 48MP Camera góc siêu r?ng: 12MP ...</td>\n",
       "      <td>3,200mAh</td>\n",
       "      <td>iPhone 14 Pro 128GB VN/A - T?ng BH roi v? vào ...</td>\n",
       "      <td>31990000</td>\n",
       "      <td>Apple</td>\n",
       "      <td>iPhone</td>\n",
       "    </tr>\n",
       "    <tr>\n",
       "      <th>5</th>\n",
       "      <td>6.7 inches</td>\n",
       "      <td>Snapdragon 8 Gen 2 for Galaxy</td>\n",
       "      <td>256 GB</td>\n",
       "      <td>8Gb</td>\n",
       "      <td>12MP - 12MP</td>\n",
       "      <td>3700 mAh</td>\n",
       "      <td>Samsung Galaxy Z Flip5 8GB 256GB Chính Hãng</td>\n",
       "      <td>25990000</td>\n",
       "      <td>Samsung</td>\n",
       "      <td>Samsung</td>\n",
       "    </tr>\n",
       "  </tbody>\n",
       "</table>\n",
       "</div>"
      ],
      "text/plain": [
       "  Kích thước màn hình                            CPU Bộ nhớ trong   RAM  \\\n",
       "0          6.7 inches                      Helio G85        128GB   4GB   \n",
       "2          6,1 inches               Apple A15 Bionic        128GB  6 GB   \n",
       "3          7.0 inches            Unisoc T606 (12 nm)        256GB   8GB   \n",
       "4            6.1 inch               Apple A16 Bionic        128GB   6GB   \n",
       "5          6.7 inches  Snapdragon 8 Gen 2 for Galaxy       256 GB   8Gb   \n",
       "\n",
       "                                        Camera chính Dung lượng pin  \\\n",
       "0                                         50MP - 2MP       5000 mAh   \n",
       "2   Camera góc r?ng: 12MP Camera góc siêu r?ng: 12MP       3,279mAh   \n",
       "3                                   16MP - 2MP - 2MP        5000mAh   \n",
       "4  Camera chính: 48MP Camera góc siêu r?ng: 12MP ...       3,200mAh   \n",
       "5                                        12MP - 12MP       3700 mAh   \n",
       "\n",
       "                                             Product     price Hãng sản xuất  \\\n",
       "0       Samsung Galaxy A05 (4G) 4GB 128GB Chính Hãng   3090000       Samsung   \n",
       "2      iPhone 14 128GB VNA - T?ng BH roi v? vào nu?c  25990000         Apple   \n",
       "3                 INOI Note 13s 8GB 256GB Chính Hãng   3390000          INOI   \n",
       "4  iPhone 14 Pro 128GB VN/A - T?ng BH roi v? vào ...  31990000         Apple   \n",
       "5        Samsung Galaxy Z Flip5 8GB 256GB Chính Hãng  25990000       Samsung   \n",
       "\n",
       "     Brand  \n",
       "0  Samsung  \n",
       "2   iPhone  \n",
       "3     INOI  \n",
       "4   iPhone  \n",
       "5  Samsung  "
      ]
     },
     "execution_count": 111,
     "metadata": {},
     "output_type": "execute_result"
    }
   ],
   "source": [
    "df_new.head()"
   ]
  },
  {
   "cell_type": "code",
   "execution_count": 112,
   "metadata": {},
   "outputs": [
    {
     "data": {
      "text/plain": [
       "Kích thước màn hình     0\n",
       "CPU                     8\n",
       "Bộ nhớ trong            5\n",
       "RAM                    11\n",
       "Camera chính            5\n",
       "Dung lượng pin         11\n",
       "Product                 0\n",
       "price                   0\n",
       "Hãng sản xuất           0\n",
       "Brand                   0\n",
       "dtype: int64"
      ]
     },
     "execution_count": 112,
     "metadata": {},
     "output_type": "execute_result"
    }
   ],
   "source": [
    "df_new['Hãng sản xuất'] = df_new.apply(lambda row: row['Brand'] if pd.isna(row['Hãng sản xuất']) and pd.notna(row['Brand']) else row['Hãng sản xuất'], axis=1)\n",
    "df_new.isna().sum()"
   ]
  },
  {
   "cell_type": "code",
   "execution_count": 113,
   "metadata": {},
   "outputs": [],
   "source": [
    "selected_columns = ['Kích thước màn hình', 'CPU', 'Bộ nhớ trong', 'RAM', 'Camera chính', 'Dung lượng pin', 'Product', 'price', 'Hãng sản xuất']\n",
    "df_new = df_new[selected_columns]"
   ]
  },
  {
   "cell_type": "code",
   "execution_count": 114,
   "metadata": {},
   "outputs": [],
   "source": [
    "df_new.to_csv('data_tranform_CB.csv')"
   ]
  },
  {
   "cell_type": "code",
   "execution_count": 33,
   "metadata": {},
   "outputs": [],
   "source": [
    "df_new = pd.read_csv('data_tranform_CB.csv')"
   ]
  },
  {
   "cell_type": "code",
   "execution_count": 34,
   "metadata": {},
   "outputs": [],
   "source": [
    "#Import thư viện re để thực hiện biểu thức chính quy\n",
    "import re"
   ]
  },
  {
   "cell_type": "code",
   "execution_count": 35,
   "metadata": {},
   "outputs": [],
   "source": [
    "# Hàm tùy chỉnh để trích xuất Ram và Rom\n",
    "def extract_ram_rom(text):\n",
    "    ram = None\n",
    "    rom = None\n",
    "    matches = re.findall(r'\\d+GB', text)\n",
    "    if len(matches) > 0:\n",
    "        if int(matches[0][:-2]) <= 16:    \n",
    "            ram = matches[0]  # Giả sử Ram là thông tin đầu tiên\n",
    "        elif int(matches[0][:-2]) >= 32:\n",
    "            rom = matches[0]    \n",
    "            return pd.Series([ram, rom])\n",
    "    if len(matches) > 1:\n",
    "        rom = matches[1]\n",
    "    return pd.Series([ram, rom])"
   ]
  },
  {
   "cell_type": "code",
   "execution_count": 36,
   "metadata": {},
   "outputs": [
    {
     "name": "stdout",
     "output_type": "stream",
     "text": [
      "0      8GB\n",
      "1    256GB\n",
      "dtype: object\n"
     ]
    }
   ],
   "source": [
    "#Check hàm\n",
    "print(extract_ram_rom('INOI Note 13s 8GB 256GB Chính Hãng'))"
   ]
  },
  {
   "cell_type": "code",
   "execution_count": 37,
   "metadata": {},
   "outputs": [
    {
     "data": {
      "text/plain": [
       "Unnamed: 0              0\n",
       "Kích thước màn hình     0\n",
       "CPU                     8\n",
       "Bộ nhớ trong            5\n",
       "RAM                    11\n",
       "Camera chính            5\n",
       "Dung lượng pin         11\n",
       "Product                 0\n",
       "price                   0\n",
       "Hãng sản xuất           0\n",
       "Ram_                   59\n",
       "Rom_                   41\n",
       "dtype: int64"
      ]
     },
     "execution_count": 37,
     "metadata": {},
     "output_type": "execute_result"
    }
   ],
   "source": [
    "#Tách ra Ram và Rom để điền vào gía trị thiếu của cột RAM và Bộ nhơ trong nếu phù hợp\n",
    "df_new[['Ram_', 'Rom_']] = df_new['Product'].apply(extract_ram_rom)\n",
    "df_new.isna().sum()"
   ]
  },
  {
   "cell_type": "code",
   "execution_count": 38,
   "metadata": {},
   "outputs": [
    {
     "data": {
      "text/html": [
       "<div>\n",
       "<style scoped>\n",
       "    .dataframe tbody tr th:only-of-type {\n",
       "        vertical-align: middle;\n",
       "    }\n",
       "\n",
       "    .dataframe tbody tr th {\n",
       "        vertical-align: top;\n",
       "    }\n",
       "\n",
       "    .dataframe thead th {\n",
       "        text-align: right;\n",
       "    }\n",
       "</style>\n",
       "<table border=\"1\" class=\"dataframe\">\n",
       "  <thead>\n",
       "    <tr style=\"text-align: right;\">\n",
       "      <th></th>\n",
       "      <th>Unnamed: 0</th>\n",
       "      <th>Kích thước màn hình</th>\n",
       "      <th>CPU</th>\n",
       "      <th>Bộ nhớ trong</th>\n",
       "      <th>RAM</th>\n",
       "      <th>Camera chính</th>\n",
       "      <th>Dung lượng pin</th>\n",
       "      <th>Product</th>\n",
       "      <th>price</th>\n",
       "      <th>Hãng sản xuất</th>\n",
       "      <th>Ram_</th>\n",
       "      <th>Rom_</th>\n",
       "    </tr>\n",
       "  </thead>\n",
       "  <tbody>\n",
       "    <tr>\n",
       "      <th>0</th>\n",
       "      <td>0</td>\n",
       "      <td>6.7 inches</td>\n",
       "      <td>Helio G85</td>\n",
       "      <td>128GB</td>\n",
       "      <td>4GB</td>\n",
       "      <td>50MP - 2MP</td>\n",
       "      <td>5000 mAh</td>\n",
       "      <td>Samsung Galaxy A05 (4G) 4GB 128GB Chính Hãng</td>\n",
       "      <td>3090000</td>\n",
       "      <td>Samsung</td>\n",
       "      <td>4GB</td>\n",
       "      <td>128GB</td>\n",
       "    </tr>\n",
       "    <tr>\n",
       "      <th>1</th>\n",
       "      <td>2</td>\n",
       "      <td>6,1 inches</td>\n",
       "      <td>Apple A15 Bionic</td>\n",
       "      <td>128GB</td>\n",
       "      <td>6 GB</td>\n",
       "      <td>Camera góc r?ng: 12MP Camera góc siêu r?ng: 12MP</td>\n",
       "      <td>3,279mAh</td>\n",
       "      <td>iPhone 14 128GB VNA - T?ng BH roi v? vào nu?c</td>\n",
       "      <td>25990000</td>\n",
       "      <td>Apple</td>\n",
       "      <td>None</td>\n",
       "      <td>128GB</td>\n",
       "    </tr>\n",
       "    <tr>\n",
       "      <th>2</th>\n",
       "      <td>3</td>\n",
       "      <td>7.0 inches</td>\n",
       "      <td>Unisoc T606 (12 nm)</td>\n",
       "      <td>256GB</td>\n",
       "      <td>8GB</td>\n",
       "      <td>16MP - 2MP - 2MP</td>\n",
       "      <td>5000mAh</td>\n",
       "      <td>INOI Note 13s 8GB 256GB Chính Hãng</td>\n",
       "      <td>3390000</td>\n",
       "      <td>INOI</td>\n",
       "      <td>8GB</td>\n",
       "      <td>256GB</td>\n",
       "    </tr>\n",
       "    <tr>\n",
       "      <th>3</th>\n",
       "      <td>4</td>\n",
       "      <td>6.1 inch</td>\n",
       "      <td>Apple A16 Bionic</td>\n",
       "      <td>128GB</td>\n",
       "      <td>6GB</td>\n",
       "      <td>Camera chính: 48MP Camera góc siêu r?ng: 12MP ...</td>\n",
       "      <td>3,200mAh</td>\n",
       "      <td>iPhone 14 Pro 128GB VN/A - T?ng BH roi v? vào ...</td>\n",
       "      <td>31990000</td>\n",
       "      <td>Apple</td>\n",
       "      <td>None</td>\n",
       "      <td>128GB</td>\n",
       "    </tr>\n",
       "    <tr>\n",
       "      <th>4</th>\n",
       "      <td>5</td>\n",
       "      <td>6.7 inches</td>\n",
       "      <td>Snapdragon 8 Gen 2 for Galaxy</td>\n",
       "      <td>256 GB</td>\n",
       "      <td>8Gb</td>\n",
       "      <td>12MP - 12MP</td>\n",
       "      <td>3700 mAh</td>\n",
       "      <td>Samsung Galaxy Z Flip5 8GB 256GB Chính Hãng</td>\n",
       "      <td>25990000</td>\n",
       "      <td>Samsung</td>\n",
       "      <td>8GB</td>\n",
       "      <td>256GB</td>\n",
       "    </tr>\n",
       "  </tbody>\n",
       "</table>\n",
       "</div>"
      ],
      "text/plain": [
       "   Unnamed: 0 Kích thước màn hình                            CPU Bộ nhớ trong  \\\n",
       "0           0          6.7 inches                      Helio G85        128GB   \n",
       "1           2          6,1 inches               Apple A15 Bionic        128GB   \n",
       "2           3          7.0 inches            Unisoc T606 (12 nm)        256GB   \n",
       "3           4            6.1 inch               Apple A16 Bionic        128GB   \n",
       "4           5          6.7 inches  Snapdragon 8 Gen 2 for Galaxy       256 GB   \n",
       "\n",
       "    RAM                                       Camera chính Dung lượng pin  \\\n",
       "0   4GB                                         50MP - 2MP       5000 mAh   \n",
       "1  6 GB   Camera góc r?ng: 12MP Camera góc siêu r?ng: 12MP       3,279mAh   \n",
       "2   8GB                                   16MP - 2MP - 2MP        5000mAh   \n",
       "3   6GB  Camera chính: 48MP Camera góc siêu r?ng: 12MP ...       3,200mAh   \n",
       "4   8Gb                                        12MP - 12MP       3700 mAh   \n",
       "\n",
       "                                             Product     price Hãng sản xuất  \\\n",
       "0       Samsung Galaxy A05 (4G) 4GB 128GB Chính Hãng   3090000       Samsung   \n",
       "1      iPhone 14 128GB VNA - T?ng BH roi v? vào nu?c  25990000         Apple   \n",
       "2                 INOI Note 13s 8GB 256GB Chính Hãng   3390000          INOI   \n",
       "3  iPhone 14 Pro 128GB VN/A - T?ng BH roi v? vào ...  31990000         Apple   \n",
       "4        Samsung Galaxy Z Flip5 8GB 256GB Chính Hãng  25990000       Samsung   \n",
       "\n",
       "   Ram_   Rom_  \n",
       "0   4GB  128GB  \n",
       "1  None  128GB  \n",
       "2   8GB  256GB  \n",
       "3  None  128GB  \n",
       "4   8GB  256GB  "
      ]
     },
     "execution_count": 38,
     "metadata": {},
     "output_type": "execute_result"
    }
   ],
   "source": [
    "df_new.head()"
   ]
  },
  {
   "cell_type": "code",
   "execution_count": 39,
   "metadata": {},
   "outputs": [
    {
     "data": {
      "text/plain": [
       "Unnamed: 0              0\n",
       "Kích thước màn hình     0\n",
       "CPU                     8\n",
       "Bộ nhớ trong            5\n",
       "RAM                     9\n",
       "Camera chính            5\n",
       "Dung lượng pin         11\n",
       "Product                 0\n",
       "price                   0\n",
       "Hãng sản xuất           0\n",
       "Ram_                   59\n",
       "Rom_                   41\n",
       "dtype: int64"
      ]
     },
     "execution_count": 39,
     "metadata": {},
     "output_type": "execute_result"
    }
   ],
   "source": [
    "##Gán các giá trị cho cột RAM nếu cột RAM bị thiếu và cột Ram_ không thiếu\n",
    "df_new['RAM'] = df_new.apply(lambda row: row['Ram_'] if pd.isna(row['RAM']) and pd.notna(row['Ram_']) else row['RAM'], axis=1)\n",
    "df_new.isna().sum()"
   ]
  },
  {
   "cell_type": "code",
   "execution_count": 40,
   "metadata": {},
   "outputs": [
    {
     "data": {
      "text/plain": [
       "Unnamed: 0              0\n",
       "Kích thước màn hình     0\n",
       "CPU                     8\n",
       "Bộ nhớ trong            4\n",
       "RAM                     9\n",
       "Camera chính            5\n",
       "Dung lượng pin         11\n",
       "Product                 0\n",
       "price                   0\n",
       "Hãng sản xuất           0\n",
       "Ram_                   59\n",
       "Rom_                   41\n",
       "dtype: int64"
      ]
     },
     "execution_count": 40,
     "metadata": {},
     "output_type": "execute_result"
    }
   ],
   "source": [
    "#Gán các giá trị cho cột Bộ nhớ trong nếu cột Bộ nhớ trong bị thiếu và cột Rom_ không thiếu\n",
    "df_new['Bộ nhớ trong'] = df_new.apply(lambda row: row['Rom_'] if pd.isna(row['Bộ nhớ trong']) and pd.notna(row['Rom_']) else row['Bộ nhớ trong'], axis=1)\n",
    "df_new.isna().sum()"
   ]
  },
  {
   "cell_type": "code",
   "execution_count": 41,
   "metadata": {},
   "outputs": [
    {
     "data": {
      "text/html": [
       "<div>\n",
       "<style scoped>\n",
       "    .dataframe tbody tr th:only-of-type {\n",
       "        vertical-align: middle;\n",
       "    }\n",
       "\n",
       "    .dataframe tbody tr th {\n",
       "        vertical-align: top;\n",
       "    }\n",
       "\n",
       "    .dataframe thead th {\n",
       "        text-align: right;\n",
       "    }\n",
       "</style>\n",
       "<table border=\"1\" class=\"dataframe\">\n",
       "  <thead>\n",
       "    <tr style=\"text-align: right;\">\n",
       "      <th></th>\n",
       "      <th>Unnamed: 0</th>\n",
       "      <th>Kích thước màn hình</th>\n",
       "      <th>CPU</th>\n",
       "      <th>Bộ nhớ trong</th>\n",
       "      <th>RAM</th>\n",
       "      <th>Camera chính</th>\n",
       "      <th>Dung lượng pin</th>\n",
       "      <th>Product</th>\n",
       "      <th>price</th>\n",
       "      <th>Hãng sản xuất</th>\n",
       "      <th>Ram_</th>\n",
       "      <th>Rom_</th>\n",
       "    </tr>\n",
       "  </thead>\n",
       "  <tbody>\n",
       "    <tr>\n",
       "      <th>41</th>\n",
       "      <td>42</td>\n",
       "      <td>AMOLED, 6.67 inches, 120Hz</td>\n",
       "      <td>MediaTek Dimensity 8 nhân</td>\n",
       "      <td>NaN</td>\n",
       "      <td>NaN</td>\n",
       "      <td>108 MP - 2 MP</td>\n",
       "      <td>5000 mAh</td>\n",
       "      <td>Xiaomi Redmi Note 14 (5G)</td>\n",
       "      <td>Liên hệ</td>\n",
       "      <td>Xiaomi</td>\n",
       "      <td>None</td>\n",
       "      <td>None</td>\n",
       "    </tr>\n",
       "    <tr>\n",
       "      <th>243</th>\n",
       "      <td>262</td>\n",
       "      <td>1.77 inchs</td>\n",
       "      <td>Unisoc T107</td>\n",
       "      <td>NaN</td>\n",
       "      <td>NaN</td>\n",
       "      <td>QVGA</td>\n",
       "      <td>NaN</td>\n",
       "      <td>Nokia 110 4G Pro (2023) Chính Hãng</td>\n",
       "      <td>710000</td>\n",
       "      <td>Nokia</td>\n",
       "      <td>None</td>\n",
       "      <td>None</td>\n",
       "    </tr>\n",
       "    <tr>\n",
       "      <th>254</th>\n",
       "      <td>275</td>\n",
       "      <td>1.8 inchs</td>\n",
       "      <td>Unisoc T107</td>\n",
       "      <td>NaN</td>\n",
       "      <td>NaN</td>\n",
       "      <td>NaN</td>\n",
       "      <td>1450mAh</td>\n",
       "      <td>Nokia 105 4G Pro (2023) Chính Hãng</td>\n",
       "      <td>780000</td>\n",
       "      <td>Nokia</td>\n",
       "      <td>None</td>\n",
       "      <td>None</td>\n",
       "    </tr>\n",
       "    <tr>\n",
       "      <th>313</th>\n",
       "      <td>342</td>\n",
       "      <td>2 inches</td>\n",
       "      <td>NaN</td>\n",
       "      <td>NaN</td>\n",
       "      <td>NaN</td>\n",
       "      <td>0,3MP</td>\n",
       "      <td>1000mAh</td>\n",
       "      <td>INOI 288S (4G) Chính Hãng</td>\n",
       "      <td>1190000</td>\n",
       "      <td>INOI</td>\n",
       "      <td>None</td>\n",
       "      <td>None</td>\n",
       "    </tr>\n",
       "  </tbody>\n",
       "</table>\n",
       "</div>"
      ],
      "text/plain": [
       "     Unnamed: 0         Kích thước màn hình                        CPU  \\\n",
       "41           42  AMOLED, 6.67 inches, 120Hz  MediaTek Dimensity 8 nhân   \n",
       "243         262                  1.77 inchs                Unisoc T107   \n",
       "254         275                   1.8 inchs                Unisoc T107   \n",
       "313         342                    2 inches                        NaN   \n",
       "\n",
       "    Bộ nhớ trong  RAM   Camera chính Dung lượng pin  \\\n",
       "41           NaN  NaN  108 MP - 2 MP       5000 mAh   \n",
       "243          NaN  NaN           QVGA            NaN   \n",
       "254          NaN  NaN            NaN        1450mAh   \n",
       "313          NaN  NaN          0,3MP        1000mAh   \n",
       "\n",
       "                                Product    price Hãng sản xuất  Ram_  Rom_  \n",
       "41            Xiaomi Redmi Note 14 (5G)  Liên hệ        Xiaomi  None  None  \n",
       "243  Nokia 110 4G Pro (2023) Chính Hãng   710000         Nokia  None  None  \n",
       "254  Nokia 105 4G Pro (2023) Chính Hãng   780000         Nokia  None  None  \n",
       "313           INOI 288S (4G) Chính Hãng  1190000          INOI  None  None  "
      ]
     },
     "execution_count": 41,
     "metadata": {},
     "output_type": "execute_result"
    }
   ],
   "source": [
    "#Kiểm tra giá trị null của bộ nhớ trong xem có trùng với Rom_ không?\n",
    "df_= df_new[df_new['Bộ nhớ trong'].isna()]\n",
    "df_.head(9)"
   ]
  },
  {
   "cell_type": "code",
   "execution_count": 42,
   "metadata": {},
   "outputs": [],
   "source": [
    "#Tạo file csv\n",
    "df_new.to_csv('data_click_buy.csv')"
   ]
  }
 ],
 "metadata": {
  "kernelspec": {
   "display_name": "Python 3",
   "language": "python",
   "name": "python3"
  },
  "language_info": {
   "codemirror_mode": {
    "name": "ipython",
    "version": 3
   },
   "file_extension": ".py",
   "mimetype": "text/x-python",
   "name": "python",
   "nbconvert_exporter": "python",
   "pygments_lexer": "ipython3",
   "version": "3.12.4"
  }
 },
 "nbformat": 4,
 "nbformat_minor": 2
}
